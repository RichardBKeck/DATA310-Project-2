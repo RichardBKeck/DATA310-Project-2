{
  "cells": [
    {
      "cell_type": "code",
      "execution_count": null,
      "metadata": {
        "id": "1UGp2aezYDiE"
      },
      "outputs": [],
      "source": [
        "import numpy as np\n",
        "import pandas as pd\n",
        "from sklearn.model_selection import KFold\n",
        "from sklearn.preprocessing import StandardScaler, PolynomialFeatures\n",
        "from sklearn.linear_model import Ridge, Lasso, ElasticNet\n",
        "from sklearn.pipeline import Pipeline\n",
        "import matplotlib.pyplot as plt\n",
        "import warnings\n",
        "warnings.simplefilter(action='ignore', category=FutureWarning)"
      ]
    },
    {
      "cell_type": "code",
      "execution_count": null,
      "metadata": {
        "id": "q1qYubj8YHYk"
      },
      "outputs": [],
      "source": [
        "dataframe = pd.read_csv('drive/MyDrive/DATA 310/Project 2/qsar_fish_toxicity.csv', delimiter = ';' ,names = ['CIC0','SM1_Dz(Z)','GATS1i','NdsCH','NdssC','MLOGP','LC50 [-LOG(mol/L)]'])"
      ]
    },
    {
      "cell_type": "code",
      "execution_count": null,
      "metadata": {
        "id": "UMZORQzPHUuc",
        "colab": {
          "base_uri": "https://localhost:8080/",
          "height": 424
        },
        "outputId": "56434810-a1b1-4b16-cb77-64e4d0b12c9f"
      },
      "outputs": [
        {
          "output_type": "execute_result",
          "data": {
            "text/plain": [
              "      CIC0  SM1_Dz(Z)  GATS1i  NdsCH  NdssC  MLOGP  LC50 [-LOG(mol/L)]\n",
              "0    3.260      0.829   1.676      0      1  1.453               3.770\n",
              "1    2.189      0.580   0.863      0      0  1.348               3.115\n",
              "2    2.125      0.638   0.831      0      0  1.348               3.531\n",
              "3    3.027      0.331   1.472      1      0  1.807               3.510\n",
              "4    2.094      0.827   0.860      0      0  1.886               5.390\n",
              "..     ...        ...     ...    ...    ...    ...                 ...\n",
              "903  2.801      0.728   2.226      0      2  0.736               3.109\n",
              "904  3.652      0.872   0.867      2      3  3.983               4.040\n",
              "905  3.763      0.916   0.878      0      6  2.918               4.818\n",
              "906  2.831      1.393   1.077      0      1  0.906               5.317\n",
              "907  4.057      1.032   1.183      1      3  4.754               8.201\n",
              "\n",
              "[908 rows x 7 columns]"
            ],
            "text/html": [
              "\n",
              "  <div id=\"df-f4a49c6d-dd5d-4a70-8b8b-082362dfe4fe\">\n",
              "    <div class=\"colab-df-container\">\n",
              "      <div>\n",
              "<style scoped>\n",
              "    .dataframe tbody tr th:only-of-type {\n",
              "        vertical-align: middle;\n",
              "    }\n",
              "\n",
              "    .dataframe tbody tr th {\n",
              "        vertical-align: top;\n",
              "    }\n",
              "\n",
              "    .dataframe thead th {\n",
              "        text-align: right;\n",
              "    }\n",
              "</style>\n",
              "<table border=\"1\" class=\"dataframe\">\n",
              "  <thead>\n",
              "    <tr style=\"text-align: right;\">\n",
              "      <th></th>\n",
              "      <th>CIC0</th>\n",
              "      <th>SM1_Dz(Z)</th>\n",
              "      <th>GATS1i</th>\n",
              "      <th>NdsCH</th>\n",
              "      <th>NdssC</th>\n",
              "      <th>MLOGP</th>\n",
              "      <th>LC50 [-LOG(mol/L)]</th>\n",
              "    </tr>\n",
              "  </thead>\n",
              "  <tbody>\n",
              "    <tr>\n",
              "      <th>0</th>\n",
              "      <td>3.260</td>\n",
              "      <td>0.829</td>\n",
              "      <td>1.676</td>\n",
              "      <td>0</td>\n",
              "      <td>1</td>\n",
              "      <td>1.453</td>\n",
              "      <td>3.770</td>\n",
              "    </tr>\n",
              "    <tr>\n",
              "      <th>1</th>\n",
              "      <td>2.189</td>\n",
              "      <td>0.580</td>\n",
              "      <td>0.863</td>\n",
              "      <td>0</td>\n",
              "      <td>0</td>\n",
              "      <td>1.348</td>\n",
              "      <td>3.115</td>\n",
              "    </tr>\n",
              "    <tr>\n",
              "      <th>2</th>\n",
              "      <td>2.125</td>\n",
              "      <td>0.638</td>\n",
              "      <td>0.831</td>\n",
              "      <td>0</td>\n",
              "      <td>0</td>\n",
              "      <td>1.348</td>\n",
              "      <td>3.531</td>\n",
              "    </tr>\n",
              "    <tr>\n",
              "      <th>3</th>\n",
              "      <td>3.027</td>\n",
              "      <td>0.331</td>\n",
              "      <td>1.472</td>\n",
              "      <td>1</td>\n",
              "      <td>0</td>\n",
              "      <td>1.807</td>\n",
              "      <td>3.510</td>\n",
              "    </tr>\n",
              "    <tr>\n",
              "      <th>4</th>\n",
              "      <td>2.094</td>\n",
              "      <td>0.827</td>\n",
              "      <td>0.860</td>\n",
              "      <td>0</td>\n",
              "      <td>0</td>\n",
              "      <td>1.886</td>\n",
              "      <td>5.390</td>\n",
              "    </tr>\n",
              "    <tr>\n",
              "      <th>...</th>\n",
              "      <td>...</td>\n",
              "      <td>...</td>\n",
              "      <td>...</td>\n",
              "      <td>...</td>\n",
              "      <td>...</td>\n",
              "      <td>...</td>\n",
              "      <td>...</td>\n",
              "    </tr>\n",
              "    <tr>\n",
              "      <th>903</th>\n",
              "      <td>2.801</td>\n",
              "      <td>0.728</td>\n",
              "      <td>2.226</td>\n",
              "      <td>0</td>\n",
              "      <td>2</td>\n",
              "      <td>0.736</td>\n",
              "      <td>3.109</td>\n",
              "    </tr>\n",
              "    <tr>\n",
              "      <th>904</th>\n",
              "      <td>3.652</td>\n",
              "      <td>0.872</td>\n",
              "      <td>0.867</td>\n",
              "      <td>2</td>\n",
              "      <td>3</td>\n",
              "      <td>3.983</td>\n",
              "      <td>4.040</td>\n",
              "    </tr>\n",
              "    <tr>\n",
              "      <th>905</th>\n",
              "      <td>3.763</td>\n",
              "      <td>0.916</td>\n",
              "      <td>0.878</td>\n",
              "      <td>0</td>\n",
              "      <td>6</td>\n",
              "      <td>2.918</td>\n",
              "      <td>4.818</td>\n",
              "    </tr>\n",
              "    <tr>\n",
              "      <th>906</th>\n",
              "      <td>2.831</td>\n",
              "      <td>1.393</td>\n",
              "      <td>1.077</td>\n",
              "      <td>0</td>\n",
              "      <td>1</td>\n",
              "      <td>0.906</td>\n",
              "      <td>5.317</td>\n",
              "    </tr>\n",
              "    <tr>\n",
              "      <th>907</th>\n",
              "      <td>4.057</td>\n",
              "      <td>1.032</td>\n",
              "      <td>1.183</td>\n",
              "      <td>1</td>\n",
              "      <td>3</td>\n",
              "      <td>4.754</td>\n",
              "      <td>8.201</td>\n",
              "    </tr>\n",
              "  </tbody>\n",
              "</table>\n",
              "<p>908 rows × 7 columns</p>\n",
              "</div>\n",
              "      <button class=\"colab-df-convert\" onclick=\"convertToInteractive('df-f4a49c6d-dd5d-4a70-8b8b-082362dfe4fe')\"\n",
              "              title=\"Convert this dataframe to an interactive table.\"\n",
              "              style=\"display:none;\">\n",
              "        \n",
              "  <svg xmlns=\"http://www.w3.org/2000/svg\" height=\"24px\"viewBox=\"0 0 24 24\"\n",
              "       width=\"24px\">\n",
              "    <path d=\"M0 0h24v24H0V0z\" fill=\"none\"/>\n",
              "    <path d=\"M18.56 5.44l.94 2.06.94-2.06 2.06-.94-2.06-.94-.94-2.06-.94 2.06-2.06.94zm-11 1L8.5 8.5l.94-2.06 2.06-.94-2.06-.94L8.5 2.5l-.94 2.06-2.06.94zm10 10l.94 2.06.94-2.06 2.06-.94-2.06-.94-.94-2.06-.94 2.06-2.06.94z\"/><path d=\"M17.41 7.96l-1.37-1.37c-.4-.4-.92-.59-1.43-.59-.52 0-1.04.2-1.43.59L10.3 9.45l-7.72 7.72c-.78.78-.78 2.05 0 2.83L4 21.41c.39.39.9.59 1.41.59.51 0 1.02-.2 1.41-.59l7.78-7.78 2.81-2.81c.8-.78.8-2.07 0-2.86zM5.41 20L4 18.59l7.72-7.72 1.47 1.35L5.41 20z\"/>\n",
              "  </svg>\n",
              "      </button>\n",
              "      \n",
              "  <style>\n",
              "    .colab-df-container {\n",
              "      display:flex;\n",
              "      flex-wrap:wrap;\n",
              "      gap: 12px;\n",
              "    }\n",
              "\n",
              "    .colab-df-convert {\n",
              "      background-color: #E8F0FE;\n",
              "      border: none;\n",
              "      border-radius: 50%;\n",
              "      cursor: pointer;\n",
              "      display: none;\n",
              "      fill: #1967D2;\n",
              "      height: 32px;\n",
              "      padding: 0 0 0 0;\n",
              "      width: 32px;\n",
              "    }\n",
              "\n",
              "    .colab-df-convert:hover {\n",
              "      background-color: #E2EBFA;\n",
              "      box-shadow: 0px 1px 2px rgba(60, 64, 67, 0.3), 0px 1px 3px 1px rgba(60, 64, 67, 0.15);\n",
              "      fill: #174EA6;\n",
              "    }\n",
              "\n",
              "    [theme=dark] .colab-df-convert {\n",
              "      background-color: #3B4455;\n",
              "      fill: #D2E3FC;\n",
              "    }\n",
              "\n",
              "    [theme=dark] .colab-df-convert:hover {\n",
              "      background-color: #434B5C;\n",
              "      box-shadow: 0px 1px 3px 1px rgba(0, 0, 0, 0.15);\n",
              "      filter: drop-shadow(0px 1px 2px rgba(0, 0, 0, 0.3));\n",
              "      fill: #FFFFFF;\n",
              "    }\n",
              "  </style>\n",
              "\n",
              "      <script>\n",
              "        const buttonEl =\n",
              "          document.querySelector('#df-f4a49c6d-dd5d-4a70-8b8b-082362dfe4fe button.colab-df-convert');\n",
              "        buttonEl.style.display =\n",
              "          google.colab.kernel.accessAllowed ? 'block' : 'none';\n",
              "\n",
              "        async function convertToInteractive(key) {\n",
              "          const element = document.querySelector('#df-f4a49c6d-dd5d-4a70-8b8b-082362dfe4fe');\n",
              "          const dataTable =\n",
              "            await google.colab.kernel.invokeFunction('convertToInteractive',\n",
              "                                                     [key], {});\n",
              "          if (!dataTable) return;\n",
              "\n",
              "          const docLinkHtml = 'Like what you see? Visit the ' +\n",
              "            '<a target=\"_blank\" href=https://colab.research.google.com/notebooks/data_table.ipynb>data table notebook</a>'\n",
              "            + ' to learn more about interactive tables.';\n",
              "          element.innerHTML = '';\n",
              "          dataTable['output_type'] = 'display_data';\n",
              "          await google.colab.output.renderOutput(dataTable, element);\n",
              "          const docLink = document.createElement('div');\n",
              "          docLink.innerHTML = docLinkHtml;\n",
              "          element.appendChild(docLink);\n",
              "        }\n",
              "      </script>\n",
              "    </div>\n",
              "  </div>\n",
              "  "
            ]
          },
          "metadata": {},
          "execution_count": 4
        }
      ],
      "source": [
        "dataframe"
      ]
    },
    {
      "cell_type": "code",
      "execution_count": null,
      "metadata": {
        "id": "8avWK5mVYRGJ"
      },
      "outputs": [],
      "source": [
        "X = dataframe.iloc[:,:-1].values\n",
        "y = dataframe.iloc[:,-1].values"
      ]
    },
    {
      "cell_type": "markdown",
      "metadata": {
        "id": "sTWPQ8vE6c8m"
      },
      "source": [
        "**Function**"
      ]
    },
    {
      "cell_type": "code",
      "execution_count": null,
      "metadata": {
        "id": "ZYuEzcHQ6fHM"
      },
      "outputs": [],
      "source": [
        "def Project2 (model, X, y, k, degrees, a_start, a_end, a_tests, random_state=123):\n",
        "  import numpy as np\n",
        "  from sklearn.model_selection import KFold\n",
        "  from sklearn.preprocessing import StandardScaler, PolynomialFeatures\n",
        "  from sklearn.linear_model import Ridge, Lasso, ElasticNet\n",
        "  from sklearn.pipeline import Pipeline\n",
        "  import matplotlib.pyplot as plt\n",
        "  from sklearn.svm import SVR\n",
        "\n",
        "  scale = StandardScaler()\n",
        "\n",
        "  R2train_avg = []\n",
        "  R2test_avg = []\n",
        "  degree_value =[]\n",
        "  a_value = []\n",
        "\n",
        "  kf = KFold(n_splits=k, random_state=random_state, shuffle=True)\n",
        "\n",
        "  for d in range (1,degrees+1,1):\n",
        "    poly = PolynomialFeatures(degree = d)\n",
        "    pipe = Pipeline([['Scaler',scale],['Poly Feats',poly]])\n",
        "\n",
        "    for a in np.linspace(a_start,a_end,a_tests):\n",
        "      test_model = model(alpha= a, fit_intercept = False, max_iter=5000)\n",
        "\n",
        "      R2train_raw = []\n",
        "      R2test_raw = []\n",
        "\n",
        "      for idxtrain, idxtest in kf.split(X):\n",
        "        Xtrain = X[idxtrain]\n",
        "        Xtest = X[idxtest]\n",
        "        ytrain = y[idxtrain]\n",
        "        ytest = y[idxtest]\n",
        "        Xpolytrain = pipe.fit_transform(Xtrain)\n",
        "        Xpolytest = pipe.transform(Xtest)\n",
        "\n",
        "        #Regression\n",
        "        test_model.fit(Xpolytrain,ytrain)\n",
        "        R2train_raw.append(test_model.score(Xpolytrain,ytrain))\n",
        "        R2test_raw.append(test_model.score(Xpolytest,ytest))\n",
        "      R2test_avg.append(np.mean(R2test_raw))\n",
        "      R2train_avg.append(np.mean(R2train_raw))\n",
        "      degree_value.append(d)\n",
        "      a_value.append(a)\n",
        "  \n",
        "  return R2test_avg, degree_value, a_value"
      ]
    },
    {
      "cell_type": "markdown",
      "source": [
        "**Ridge**"
      ],
      "metadata": {
        "id": "0oi8mymj47N4"
      }
    },
    {
      "cell_type": "code",
      "execution_count": null,
      "metadata": {
        "id": "Dg2tJtsr7tRr"
      },
      "outputs": [],
      "source": [
        "model=Ridge\n",
        "k = 10\n",
        "degrees = 3\n",
        "a_start = 10e-7\n",
        "a_end = 1\n",
        "a_tests = 2500\n",
        "\n",
        "R2test, degree_value, a_value = Project2(model,X,y,k,degrees,a_start,a_end,a_tests)"
      ]
    },
    {
      "cell_type": "code",
      "execution_count": null,
      "metadata": {
        "id": "GDzfknT8bGDd",
        "colab": {
          "base_uri": "https://localhost:8080/",
          "height": 350
        },
        "outputId": "2507b1f1-fd33-4ce0-8d00-4235ebe5aeb9"
      },
      "outputs": [
        {
          "output_type": "stream",
          "name": "stdout",
          "text": [
            "Optimal Polynomal Degree: 2\n",
            "Optimal Alpha Value: 0.40496257983193273\n",
            "R^2 Value at that Point: 0.5666974153610778\n"
          ]
        },
        {
          "output_type": "display_data",
          "data": {
            "text/plain": [
              "<Figure size 576x288 with 1 Axes>"
            ],
            "image/png": "[encoded data removed]"
          },
          "metadata": {
            "needs_background": "light"
          }
        }
      ],
      "source": [
        "# Ridge\n",
        "idx_max = np.argmax(R2test)\n",
        "print('Optimal Polynomal Degree:',degree_value[idx_max])\n",
        "print('Optimal Alpha Value:',a_value[idx_max])\n",
        "print('R^2 Value at that Point:',R2test[idx_max])\n",
        "\n",
        "plt.figure(figsize=(8,4))\n",
        "for d in range (1,degrees+1,1):\n",
        "  plt.scatter(a_value[(d-1)*a_tests:d*a_tests],R2test[(d-1)*a_tests:d*a_tests],alpha = 0.5,label= 'Degree '+str(d)+' Polynomial', cmap = 'jet')\n",
        "plt.xlabel('$\\\\alpha$')\n",
        "plt.ylabel('Avg. $R^2$')\n",
        "plt.title(model())\n",
        "plt.legend()\n",
        "plt.show()"
      ]
    },
    {
      "cell_type": "markdown",
      "source": [
        "**Lasso**"
      ],
      "metadata": {
        "id": "-auIaN9p40Gd"
      }
    },
    {
      "cell_type": "code",
      "execution_count": null,
      "metadata": {
        "id": "EaSI23CMifUi"
      },
      "outputs": [],
      "source": [
        "model = Lasso\n",
        "k = 10\n",
        "degrees = 3\n",
        "a_start = 10e-5\n",
        "a_end = 10e-2\n",
        "a_tests = 2500\n",
        "\n",
        "R2test, degree_value, a_value = Project2(model,X,y,k,degrees,a_start,a_end,a_tests)"
      ]
    },
    {
      "cell_type": "code",
      "execution_count": null,
      "metadata": {
        "id": "oXUcsfWsuZsW",
        "colab": {
          "base_uri": "https://localhost:8080/",
          "height": 350
        },
        "outputId": "4adcd92b-3070-4e06-9d4a-025f576462ef"
      },
      "outputs": [
        {
          "output_type": "stream",
          "name": "stdout",
          "text": [
            "Optimal Polynomal Degree: 2\n",
            "Optimal Alpha Value: 0.023445978391356544\n",
            "R^2 Value at that Point: 0.5785801504096296\n"
          ]
        },
        {
          "output_type": "display_data",
          "data": {
            "text/plain": [
              "<Figure size 576x288 with 1 Axes>"
            ],
            "image/png": "[encoded data removed]"
          },
          "metadata": {
            "needs_background": "light"
          }
        }
      ],
      "source": [
        "# Lasso\n",
        "idx_max = np.argmax(R2test)\n",
        "print('Optimal Polynomal Degree:',degree_value[idx_max])\n",
        "print('Optimal Alpha Value:',a_value[idx_max])\n",
        "print('R^2 Value at that Point:',R2test[idx_max])\n",
        "\n",
        "plt.figure(figsize=(8,4))\n",
        "for d in range (1,degrees+1,1):\n",
        "  plt.scatter(a_value[(d-1)*a_tests:d*a_tests],R2test[(d-1)*a_tests:d*a_tests],alpha = 0.5,label= 'Degree '+str(d)+' Polynomial', cmap = 'jet')\n",
        "plt.xlabel('$\\\\alpha$')\n",
        "plt.ylabel('Avg. $R^2$')\n",
        "plt.title(model())\n",
        "plt.legend()\n",
        "plt.show()"
      ]
    },
    {
      "cell_type": "code",
      "source": [
        ""
      ],
      "metadata": {
        "id": "v83eKCTU4_ko"
      },
      "execution_count": null,
      "outputs": []
    },
    {
      "cell_type": "markdown",
      "source": [
        "**ElasticNet**"
      ],
      "metadata": {
        "id": "WSEN7Rrm4-6f"
      }
    },
    {
      "cell_type": "code",
      "execution_count": null,
      "metadata": {
        "id": "2OavrUQ3iuLT"
      },
      "outputs": [],
      "source": [
        "model = ElasticNet\n",
        "k = 10\n",
        "degrees = 3\n",
        "a_start = 10e-5\n",
        "a_end = 10e-2\n",
        "a_tests = 2500\n",
        "\n",
        "R2test, degree_value, a_value = Project2(model,X,y,k,degrees,a_start,a_end,a_tests)"
      ]
    },
    {
      "cell_type": "code",
      "execution_count": null,
      "metadata": {
        "id": "W9k2ImmauGmG",
        "colab": {
          "base_uri": "https://localhost:8080/",
          "height": 350
        },
        "outputId": "33f69ed2-7ee3-48bc-96a3-297cd1403b8c"
      },
      "outputs": [
        {
          "output_type": "stream",
          "name": "stdout",
          "text": [
            "Optimal Polynomal Degree: 2\n",
            "Optimal Alpha Value: 0.013691836734693878\n",
            "R^2 Value at that Point: 0.5726996474034349\n"
          ]
        },
        {
          "output_type": "display_data",
          "data": {
            "text/plain": [
              "<Figure size 576x288 with 1 Axes>"
            ],
            "image/png": "[encoded data removed]"
          },
          "metadata": {
            "needs_background": "light"
          }
        }
      ],
      "source": [
        "# ElasticNet\n",
        "idx_max = np.argmax(R2test)\n",
        "print('Optimal Polynomal Degree:',degree_value[idx_max])\n",
        "print('Optimal Alpha Value:',a_value[idx_max])\n",
        "print('R^2 Value at that Point:',R2test[idx_max])\n",
        "\n",
        "\n",
        "plt.figure(figsize=(8,4))\n",
        "for d in range (1,degrees+1,1):\n",
        "  plt.scatter(a_value[(d-1)*a_tests:d*a_tests],R2test[(d-1)*a_tests:d*a_tests],alpha = 0.5,label= 'Degree '+str(d)+' Polynomial', cmap = 'jet')\n",
        "plt.xlabel('$\\\\alpha$')\n",
        "plt.ylabel('Avg. $R^2$')\n",
        "plt.title(model())\n",
        "plt.legend()\n",
        "plt.show()"
      ]
    }
  ],
  "metadata": {
    "colab": {
      "collapsed_sections": [],
      "name": "Project 2: Version 5",
      "provenance": []
    },
    "kernelspec": {
      "display_name": "Python 3",
      "name": "python3"
    },
    "language_info": {
      "name": "python"
    }
  },
  "nbformat": 4,
  "nbformat_minor": 0
}